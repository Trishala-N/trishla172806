{
  "nbformat": 4,
  "nbformat_minor": 0,
  "metadata": {
    "colab": {
      "provenance": []
    },
    "kernelspec": {
      "name": "python3",
      "display_name": "Python 3"
    },
    "language_info": {
      "name": "python"
    }
  },
  "cells": [
    {
      "cell_type": "code",
      "execution_count": 32,
      "metadata": {
        "id": "EWmDmAB_M5Y9",
        "colab": {
          "base_uri": "https://localhost:8080/"
        },
        "outputId": "550cf8f0-dc48-49b1-a6e7-16fa52ee6b68"
      },
      "outputs": [
        {
          "output_type": "stream",
          "name": "stdout",
          "text": [
            "Found 244 images belonging to 16 classes.\n",
            "Found 64 images belonging to 16 classes.\n",
            "Mapping of face with its ID {0: 'face1', 1: 'face10', 2: 'face11', 3: 'face12', 4: 'face13', 5: 'face14', 6: 'face15', 7: 'face16', 8: 'face2', 9: 'face3', 10: 'face4', 11: 'face5', 12: 'face6', 13: 'face7', 14: 'face8', 15: 'face9'}\n",
            "Epoch 1/15\n",
            "8/8 [==============================] - ETA: 0s - loss: 60.8429 - accuracy: 0.0697"
          ]
        },
        {
          "output_type": "stream",
          "name": "stderr",
          "text": [
            "WARNING:tensorflow:Your input ran out of data; interrupting training. Make sure that your dataset or generator can generate at least `steps_per_epoch * epochs` batches (in this case, 10 batches). You may need to use the repeat() function when building your dataset.\n"
          ]
        },
        {
          "output_type": "stream",
          "name": "stdout",
          "text": [
            "\b\b\b\b\b\b\b\b\b\b\b\b\b\b\b\b\b\b\b\b\b\b\b\b\b\b\b\b\b\b\b\b\b\b\b\b\b\b\b\b\b\b\b\b\b\b\b\b\b\b\b\b\b\b\b\b\b\b\b\b\b\b\b\b\b\b\b\b\b\b\b\b\b\b\b\b\b\b\b\b\b\r8/8 [==============================] - 6s 678ms/step - loss: 60.8429 - accuracy: 0.0697 - val_loss: 4.4238 - val_accuracy: 0.0781\n",
            "Epoch 2/15\n",
            "8/8 [==============================] - 5s 520ms/step - loss: 2.8477 - accuracy: 0.1639\n",
            "Epoch 3/15\n",
            "8/8 [==============================] - 3s 317ms/step - loss: 2.2964 - accuracy: 0.2664\n",
            "Epoch 4/15\n",
            "8/8 [==============================] - 3s 331ms/step - loss: 1.8989 - accuracy: 0.4221\n",
            "Epoch 5/15\n",
            "8/8 [==============================] - 4s 464ms/step - loss: 1.3960 - accuracy: 0.6066\n",
            "Epoch 6/15\n",
            "8/8 [==============================] - 5s 545ms/step - loss: 1.0643 - accuracy: 0.7705\n",
            "Epoch 7/15\n",
            "8/8 [==============================] - 3s 353ms/step - loss: 0.8970 - accuracy: 0.7049\n",
            "Epoch 8/15\n",
            "8/8 [==============================] - 3s 329ms/step - loss: 0.5576 - accuracy: 0.8484\n",
            "Epoch 9/15\n",
            "8/8 [==============================] - 3s 333ms/step - loss: 0.2358 - accuracy: 0.9262\n",
            "Epoch 10/15\n",
            "8/8 [==============================] - 5s 554ms/step - loss: 0.1336 - accuracy: 0.9672\n",
            "Epoch 11/15\n",
            "8/8 [==============================] - 4s 433ms/step - loss: 0.1294 - accuracy: 0.9508\n",
            "Epoch 12/15\n",
            "8/8 [==============================] - 3s 330ms/step - loss: 0.0706 - accuracy: 0.9713\n",
            "Epoch 13/15\n",
            "8/8 [==============================] - 3s 328ms/step - loss: 0.0656 - accuracy: 0.9754\n",
            "Epoch 14/15\n",
            "8/8 [==============================] - 5s 539ms/step - loss: 0.1394 - accuracy: 0.9549\n",
            "Epoch 15/15\n",
            "8/8 [==============================] - 4s 470ms/step - loss: 0.0877 - accuracy: 0.9672\n"
          ]
        },
        {
          "output_type": "stream",
          "name": "stderr",
          "text": [
            "/usr/local/lib/python3.10/dist-packages/keras/src/engine/training.py:3079: UserWarning: You are saving your model as an HDF5 file via `model.save()`. This file format is considered legacy. We recommend using instead the native Keras format, e.g. `model.save('my_model.keras')`.\n",
            "  saving_api.save_model(\n"
          ]
        },
        {
          "output_type": "stream",
          "name": "stdout",
          "text": [
            "1/1 [==============================] - 0s 99ms/step\n",
            "Prediction is:  face5\n"
          ]
        }
      ],
      "source": [
        "import pandas as pd\n",
        "import numpy as np\n",
        "from sklearn.model_selection import train_test_split as tts\n",
        "from keras.layers import Conv2D,MaxPool2D,Dense,Flatten\n",
        "from keras.models import Sequential\n",
        "from keras.optimizers import Adam,SGD\n",
        "from keras.utils import to_categorical,plot_model\n",
        "import matplotlib.pyplot as plt\n",
        "from keras.preprocessing.image import ImageDataGenerator as idg\n",
        "trdp=\"/content/drive/MyDrive/Dl_Data_Set/Face Images/Final Training Images\"\n",
        "tedp=\"/content/drive/MyDrive/Dl_Data_Set/Face Images/Final Testing Images\"\n",
        "trd=idg(shear_range=0.1,zoom_range=0.1,horizontal_flip=True)\n",
        "ted=idg(shear_range=0.1,zoom_range=0.1,horizontal_flip=True)\n",
        "t_s=trd.flow_from_directory(trdp,target_size=(64,64),batch_size=32,class_mode=\"categorical\")\n",
        "te_s=ted.flow_from_directory(tedp,target_size=(64,64),batch_size=32,class_mode=\"categorical\")\n",
        "trainclass=t_s.class_indices\n",
        "resultmap={}\n",
        "for i,j in zip(trainclass.values(),trainclass.keys()):\n",
        "    resultmap[i]=j\n",
        "import pickle\n",
        "with open(\"reusltmap.pkl\",\"wb\") as file:\n",
        "    pickle.dump(resultmap,file)\n",
        "print(\"Mapping of face with its ID\",resultmap)\n",
        "model=Sequential()\n",
        "model.add(Conv2D(32,kernel_size=(5,5),strides=(1,1),input_shape=(64,64,3),activation=\"relu\"))\n",
        "model.add(MaxPool2D(pool_size=(2,2)))\n",
        "model.add(Conv2D(64,kernel_size=(5,5),strides=(1,1),activation=\"relu\"))\n",
        "model.add(MaxPool2D(pool_size=(2,2)))\n",
        "model.add(Flatten())\n",
        "model.add(Dense(64,activation=\"relu\"))\n",
        "model.add(Dense(len(resultmap),activation=\"softmax\"))\n",
        "model.compile(loss=\"categorical_crossentropy\",optimizer=\"adam\",metrics=[\"accuracy\"])\n",
        "model.fit(t_s,epochs=15,validation_data=te_s,validation_steps=10)\n",
        "model.save(\"Face_Prediction.h5\")\n",
        "model.save(\"Face_Prediction\")\n",
        "plot_model(model,to_file=\"Face_Prediction_architecture.png\",show_shapes=True)\n",
        "model = load_model('Face_Prediction.h5')\n",
        "img_path = '/content/drive/MyDrive/Dl_Data_Set/Face Images/Final Testing Images/face5/1face5.jpg'\n",
        "img = image.load_img(img_path, target_size=(64,64))  # Make sure to resize to match model input size\n",
        "img_array = image.img_to_array(img)\n",
        "img_array = np.expand_dims(img_array, axis=0)\n",
        "predictions = model.predict(img_array)\n",
        "print('Prediction is: ', resultmap[np.argmax(predictions)])\n",
        "predicted_class = np.argmax(predictions)"
      ]
    },
    {
      "cell_type": "code",
      "source": [
        "!zip -r /content/Face_Prediction.zip /content/Face_Prediction\n"
      ],
      "metadata": {
        "colab": {
          "base_uri": "https://localhost:8080/"
        },
        "id": "Pb3SkUlRXds2",
        "outputId": "6e9cf130-0078-4c71-cde9-5f116b479297"
      },
      "execution_count": 39,
      "outputs": [
        {
          "output_type": "stream",
          "name": "stdout",
          "text": [
            "  adding: content/Face_Prediction/ (stored 0%)\n",
            "  adding: content/Face_Prediction/fingerprint.pb (stored 0%)\n",
            "  adding: content/Face_Prediction/variables/ (stored 0%)\n",
            "  adding: content/Face_Prediction/variables/variables.index (deflated 62%)\n",
            "  adding: content/Face_Prediction/variables/variables.data-00000-of-00001 (deflated 20%)\n",
            "  adding: content/Face_Prediction/assets/ (stored 0%)\n",
            "  adding: content/Face_Prediction/keras_metadata.pb (deflated 90%)\n",
            "  adding: content/Face_Prediction/saved_model.pb (deflated 87%)\n"
          ]
        }
      ]
    },
    {
      "cell_type": "code",
      "source": [],
      "metadata": {
        "id": "tRviVFvJYEnl"
      },
      "execution_count": null,
      "outputs": []
    }
  ]
}